{
 "cells": [
  {
   "cell_type": "code",
   "execution_count": 1,
   "metadata": {},
   "outputs": [],
   "source": [
    "import pandas as pd\n",
    "import numpy as np\n",
    "import networkx as nx\n",
    "import pickle\n",
    "from lightgbm import LGBMRegressor\n",
    "from sklearn.model_selection import cross_val_score\n",
    "from gensim.models import KeyedVectors"
   ]
  },
  {
   "cell_type": "code",
   "execution_count": 2,
   "metadata": {},
   "outputs": [],
   "source": [
    "# read training data\n",
    "df_train = pd.read_csv('../data/train.csv', dtype={'authorID': np.int64, 'h_index': np.float32})\n",
    "n_train = df_train.shape[0]\n",
    "\n",
    "# read test data\n",
    "df_test = pd.read_csv('../data/test.csv', dtype={'authorID': np.int64})\n",
    "n_test = df_test.shape[0]"
   ]
  },
  {
   "cell_type": "code",
   "execution_count": 3,
   "metadata": {},
   "outputs": [],
   "source": [
    "# read collaboration graph\n",
    "G = nx.read_edgelist('../data/collaboration_network.edgelist', delimiter=' ', nodetype=int)"
   ]
  },
  {
   "cell_type": "code",
   "execution_count": 4,
   "metadata": {},
   "outputs": [],
   "source": [
    "# read weighted collaboration graph\n",
    "WG = nx.read_edgelist(\"../data/weighted_collaboration_network.edgelist\", nodetype=int, data=((\"weight\", float),))"
   ]
  },
  {
   "cell_type": "code",
   "execution_count": 5,
   "metadata": {},
   "outputs": [],
   "source": [
    "# read author similarity graph\n",
    "SG = nx.read_multiline_adjlist(\"../data/author_similarity_network.adjlist\", nodetype=int)"
   ]
  },
  {
   "cell_type": "code",
   "execution_count": 6,
   "metadata": {},
   "outputs": [],
   "source": [
    "nodes = {k: v for v, k in enumerate(list(G.nodes()))}"
   ]
  },
  {
   "cell_type": "code",
   "execution_count": 7,
   "metadata": {},
   "outputs": [],
   "source": [
    "# compute graph features for each node\n",
    "avg_neighbor_degree_wg = nx.average_neighbor_degree(WG)\n",
    "avg_neighbor_degree_g = nx.average_neighbor_degree(G)\n",
    "core_number_g = nx.core_number(G)\n",
    "page_rank_g = nx.pagerank(G)\n",
    "page_rank_wg = nx.pagerank(WG)\n",
    "avg_neighbor_degree_sg = nx.average_neighbor_degree(SG)\n",
    "page_rank_sg = nx.pagerank(SG)\n",
    "eigenvector_centrality_sg = nx.eigenvector_centrality(SG)"
   ]
  },
  {
   "cell_type": "code",
   "execution_count": 8,
   "metadata": {},
   "outputs": [],
   "source": [
    "# load precomputed features for each node\n",
    "f = open(\"../data/n_papers.pkl\", \"rb\")\n",
    "n_papers = pickle.load(f)\n",
    "f.close()\n",
    "\n",
    "f = open(\"../data/average_coauthors_n_papers.pkl\", \"rb\")\n",
    "average_coauthors_n_papers = pickle.load(f)\n",
    "f.close()\n",
    "\n",
    "f = open(\"../data/betweenness_centrality_g.pkl\", \"rb\")\n",
    "betweenness_centrality_g = pickle.load(f)\n",
    "f.close()\n",
    "\n",
    "f = open(\"../data/betweenness_centrality_wg.pkl\", \"rb\")\n",
    "betweenness_centrality_wg = pickle.load(f)\n",
    "f.close()\n",
    "\n",
    "f = open(\"../data/clustering_wg.pkl\", \"rb\")\n",
    "clustering_wg = pickle.load(f)\n",
    "f.close()\n",
    "\n",
    "f = open(\"../data/clustering_sg.pkl\", \"rb\")\n",
    "clustering_sg = pickle.load(f)\n",
    "f.close()"
   ]
  },
  {
   "cell_type": "code",
   "execution_count": 9,
   "metadata": {},
   "outputs": [],
   "source": [
    "# load Node2Vec embeddings obtained from WG\n",
    "node2vec_wg = KeyedVectors.load_word2vec_format('../data/node2vec_wg.nodevectors')"
   ]
  },
  {
   "cell_type": "code",
   "execution_count": 10,
   "metadata": {},
   "outputs": [],
   "source": [
    "# load Node2Vec embeddings obtained from SG\n",
    "n2v_sg = pd.read_csv(\"../data/author_node2vec_sg.csv\", header=None)\n",
    "n2v_sg = n2v_sg.rename(columns={0: \"authorID\"})"
   ]
  },
  {
   "cell_type": "code",
   "execution_count": 11,
   "metadata": {},
   "outputs": [],
   "source": [
    "# load Node2Vec embeddings obtained from PG\n",
    "n2v_pg = pd.read_csv(\"../data/author_node2vec_pg.csv\", header=None)\n",
    "n2v_pg = n2v_pg.rename(columns={0: \"authorID\"})"
   ]
  },
  {
   "cell_type": "code",
   "execution_count": 12,
   "metadata": {},
   "outputs": [],
   "source": [
    "# load Node2Vec embeddings obtained from WPG\n",
    "n2v_wpg = pd.read_csv(\"../data/author_node2vec_wpg.csv\", header=None)\n",
    "n2v_wpg = n2v_wpg.rename(columns={0: \"authorID\"})"
   ]
  },
  {
   "cell_type": "code",
   "execution_count": 13,
   "metadata": {},
   "outputs": [],
   "source": [
    "# read embeddings of abstracts obtained with Doc2Vec PV-DM\n",
    "text_embeddings_dm = pd.read_csv(\"../data/author_embedding_64_dm.csv\", header=None)\n",
    "text_embeddings_dm = text_embeddings_dm.rename(columns={0: \"authorID\"})"
   ]
  },
  {
   "cell_type": "code",
   "execution_count": 14,
   "metadata": {},
   "outputs": [],
   "source": [
    "# read embeddings of abstractsobtained with Doc2Vec PV-DBOW\n",
    "text_embeddings_dbow = pd.read_csv(\"../data/author_embedding_64_dbow.csv\", header=None)\n",
    "text_embeddings_dbow = text_embeddings_dbow.rename(columns={0: \"authorID\"})"
   ]
  },
  {
   "cell_type": "code",
   "execution_count": 15,
   "metadata": {},
   "outputs": [],
   "source": [
    "# preprocessing: fill nan values by zeros\n",
    "n2v_sg = n2v_sg.fillna(0)\n",
    "n2v_pg = n2v_pg.fillna(0)\n",
    "n2v_wpg = n2v_wpg.fillna(0)\n",
    "text_embeddings_dm = text_embeddings_dm.fillna(0)\n",
    "text_embeddings_dbow = text_embeddings_dbow.fillna(0)"
   ]
  },
  {
   "cell_type": "code",
   "execution_count": 17,
   "metadata": {},
   "outputs": [],
   "source": [
    "n_dim = 64"
   ]
  },
  {
   "cell_type": "code",
   "execution_count": 18,
   "metadata": {},
   "outputs": [],
   "source": [
    "# create the training matrix. each node is represented as a vector of features:\n",
    "# (1-2-3) its degree, (4-5-6) the average degree of its neighbors, \n",
    "# (7) its core number, (8-9-10) its page rank, (11-12) its betweenness centrality, \n",
    "# (13-14) its clustering coefficient, (15) its eigenvector centrality,\n",
    "# (16) the number of written papers (cited), (17) the average number of written papers of its neighbors/coauthors,\n",
    "# (18-19-20-21) embeddings from Node2Vec, (22-23) text_embeddings from Doc2Vec\n",
    "X_train = np.zeros((n_train, 17+6*n_dim))\n",
    "y_train = np.zeros(n_train)\n",
    "for i,row in df_train.iterrows():\n",
    "    node = int(row['authorID'])\n",
    "    index = nodes[node]\n",
    "    X_train[i,0] = G.degree(node)\n",
    "    X_train[i,1] = WG.degree(node)\n",
    "    X_train[i,2] = SG.degree(node)\n",
    "    X_train[i,3] = avg_neighbor_degree_g[node]\n",
    "    X_train[i,4] = avg_neighbor_degree_wg[node]\n",
    "    X_train[i,5] = avg_neighbor_degree_sg[node]\n",
    "    X_train[i,6] = core_number_g[node]\n",
    "    X_train[i,7] = page_rank_g[node]\n",
    "    X_train[i,8] = page_rank_wg[node]\n",
    "    X_train[i,9] = page_rank_sg[node]\n",
    "    X_train[i,10] = betweenness_centrality_g[node]\n",
    "    X_train[i,11] = betweenness_centrality_wg[node]\n",
    "    X_train[i,12] = clustering_wg[node]\n",
    "    X_train[i,13] = clustering_sg[node]\n",
    "    X_train[i,14] = eigenvector_centrality_sg[node]\n",
    "    X_train[i,15] = n_papers[node]\n",
    "    X_train[i,16] = average_coauthors_n_papers[node]\n",
    "    X_train[i,17:17+n_dim] = n2v_pg[n2v_pg[\"authorID\"] == node].iloc[:,1:]\n",
    "    X_train[i,17+n_dim:17+2*n_dim] = n2v_wpg[n2v_wpg[\"authorID\"] == node].iloc[:,1:]\n",
    "    X_train[i,17+2*n_dim:17+3*n_dim] = n2v_sg[n2v_sg[\"authorID\"] == node].iloc[:,1:]\n",
    "    X_train[i,17+3*n_dim:17+4*n_dim] = node2vec_wg[str(node)]\n",
    "    X_train[i,17+4*n_dim:17+5*n_dim] = text_embeddings_dm[text_embeddings_dm[\"authorID\"] == node].iloc[:,1:]\n",
    "    X_train[i,17+5*n_dim:] = text_embeddings_dbow[text_embeddings_dbow[\"authorID\"] == node].iloc[:,1:]\n",
    "    y_train[i] = row['h_index']"
   ]
  },
  {
   "cell_type": "code",
   "execution_count": 19,
   "metadata": {},
   "outputs": [],
   "source": [
    "# creating custom loss that takes nearest integer\n",
    "from sklearn.metrics import make_scorer\n",
    "from sklearn.metrics import mean_absolute_error\n",
    "\n",
    "def custom_loss(y, y_pred, **kwargs):\n",
    "    return mean_absolute_error(y, np.round(y_pred))\n",
    "\n",
    "sk_loss = make_scorer(custom_loss, greater_is_better=False)"
   ]
  },
  {
   "cell_type": "code",
   "execution_count": 20,
   "metadata": {},
   "outputs": [],
   "source": [
    "import numpy as np \n",
    "import pandas as pd \n",
    "from sklearn.ensemble import RandomForestClassifier \n",
    "from sklearn import metrics\n",
    "from sklearn.model_selection import cross_val_score\n",
    "from sklearn.preprocessing import StandardScaler \n",
    "from hyperopt import tpe, hp, fmin, STATUS_OK,Trials\n",
    "from hyperopt.pyll.base import scope\n",
    "\n",
    "import warnings\n",
    "warnings.filterwarnings(\"ignore\")"
   ]
  },
  {
   "cell_type": "code",
   "execution_count": 21,
   "metadata": {},
   "outputs": [],
   "source": [
    "from hyperopt import fmin, tpe, hp, anneal, Trials"
   ]
  },
  {
   "cell_type": "code",
   "execution_count": 22,
   "metadata": {},
   "outputs": [],
   "source": [
    "def gb_mse_cv(params, cv=5, X=X_train, y=y_train):\n",
    "    # the function gets a set of variable parameters in \"param\"\n",
    "    params = {'num_leaves': int(params['num_leaves']), \n",
    "              'max_depth': int(params['max_depth']),\n",
    "              'n_estimators': int(params['n_estimators']),\n",
    "              'learning_rate': params['learning_rate'],\n",
    "              'subsample': params['subsample'],\n",
    "              'colsample_bytree': params['colsample_bytree'],\n",
    "              'reg_alpha': params['reg_alpha'],\n",
    "              'reg_lambda': params['reg_lambda']}\n",
    "     \n",
    "    # we use this params to create a new LGBM Regressor\n",
    "    model = LGBMRegressor(n_jobs=1, **params)\n",
    "    \n",
    "    # and then conduct the cross validation with the same folds as before\n",
    "    score = -cross_val_score(model, X_train, y_train, cv=cv, scoring=sk_loss, n_jobs=5).mean()\n",
    "\n",
    "    return score"
   ]
  },
  {
   "cell_type": "code",
   "execution_count": 23,
   "metadata": {},
   "outputs": [
    {
     "name": "stdout",
     "output_type": "stream",
     "text": [
      "100%|██████████| 50/50 [7:27:10<00:00, 536.61s/trial, best loss: 3.2366826989619377]   \n",
      "CPU times: user 4.41 s, sys: 5.27 s, total: 9.68 s\n",
      "Wall time: 7h 27min 10s\n"
     ]
    }
   ],
   "source": [
    "%%time\n",
    "\n",
    "# possible values of parameters\n",
    "space = {\n",
    "    'num_leaves': hp.choice(\"num_leaves\", [16, 32, 64, 128, 256]),\n",
    "    'learning_rate': hp.uniform(\"learning_rate\", 0.01, 0.1),\n",
    "    'subsample': hp.uniform(\"subsample\", 0.8, 1),\n",
    "    'colsample_bytree': hp.uniform(\"colsample_bytree\", 0.8, 1),\n",
    "    'max_depth': hp.choice(\"max_depth\", [*range(5,20)]),\n",
    "    'n_estimators': hp.quniform(\"n_estimators\", 1000, 10000, 1000),\n",
    "    'reg_alpha':  hp.uniform(\"reg_alpha\", 0.001, 1), # regularisation L1\n",
    "    'reg_lambda': hp.uniform(\"reg_lambda\", 0.001, 1) # regularisation L2\n",
    "} \n",
    "\n",
    "# trials will contain logging information\n",
    "trials = Trials()\n",
    "\n",
    "best=fmin(fn=gb_mse_cv, # function to optimize\n",
    "          space=space, \n",
    "          algo=tpe.suggest, # optimization algorithm, hyperotp will select its parameters automatically\n",
    "          max_evals=50, # maximum number of iterations\n",
    "          trials=trials, # logging\n",
    "          verbose = 1)"
   ]
  },
  {
   "cell_type": "code",
   "execution_count": 24,
   "metadata": {},
   "outputs": [
    {
     "data": {
      "text/plain": [
       "{'colsample_bytree': 0.8194330336006158,\n",
       " 'learning_rate': 0.010467484476003708,\n",
       " 'max_depth': 14,\n",
       " 'n_estimators': 8000.0,\n",
       " 'num_leaves': 1,\n",
       " 'reg_alpha': 0.789679180967437,\n",
       " 'reg_lambda': 0.3377356252520094,\n",
       " 'subsample': 0.9865966548486782}"
      ]
     },
     "execution_count": 24,
     "metadata": {},
     "output_type": "execute_result"
    }
   ],
   "source": [
    "best"
   ]
  }
 ],
 "metadata": {
  "kernelspec": {
   "display_name": "Python 3",
   "language": "python",
   "name": "python3"
  },
  "language_info": {
   "codemirror_mode": {
    "name": "ipython",
    "version": 3
   },
   "file_extension": ".py",
   "mimetype": "text/x-python",
   "name": "python",
   "nbconvert_exporter": "python",
   "pygments_lexer": "ipython3",
   "version": "3.8.5"
  }
 },
 "nbformat": 4,
 "nbformat_minor": 4
}
