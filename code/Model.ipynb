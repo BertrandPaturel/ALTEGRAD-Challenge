{
 "cells": [
  {
   "cell_type": "code",
   "execution_count": 10,
   "metadata": {},
   "outputs": [],
   "source": [
    "import pandas as pd\n",
    "import numpy as np\n",
    "import networkx as nx\n",
    "import pickle\n",
    "from lightgbm import LGBMRegressor\n",
    "from sklearn.model_selection import cross_val_score"
   ]
  },
  {
   "cell_type": "code",
   "execution_count": 2,
   "metadata": {},
   "outputs": [],
   "source": [
    "# read training data\n",
    "df_train = pd.read_csv('../data/train.csv', dtype={'authorID': np.int64, 'h_index': np.float32})\n",
    "n_train = df_train.shape[0]\n",
    "\n",
    "# read test data\n",
    "df_test = pd.read_csv('../data/test.csv', dtype={'authorID': np.int64})\n",
    "n_test = df_test.shape[0]"
   ]
  },
  {
   "cell_type": "code",
   "execution_count": 4,
   "metadata": {},
   "outputs": [],
   "source": [
    "# read collaboration graph\n",
    "G = nx.read_edgelist('../data/collaboration_network.edgelist', delimiter=' ', nodetype=int)"
   ]
  },
  {
   "cell_type": "code",
   "execution_count": 5,
   "metadata": {},
   "outputs": [],
   "source": [
    "# read weighted collaboration graph\n",
    "WG = nx.read_edgelist(\"../data/weighted_collaboration_network.edgelist\", nodetype=int, data=((\"weight\", float),))"
   ]
  },
  {
   "cell_type": "code",
   "execution_count": 6,
   "metadata": {},
   "outputs": [],
   "source": [
    "# read similarity graph\n",
    "SG = nx.read_multiline_adjlist(\"../data/sim_collaboration_network.adjlist\", nodetype=int)"
   ]
  },
  {
   "cell_type": "code",
   "execution_count": 8,
   "metadata": {},
   "outputs": [],
   "source": [
    "# compute graph features for each node\n",
    "avg_neighbor_degree_wg = nx.average_neighbor_degree(WG)\n",
    "avg_neighbor_degree_g = nx.average_neighbor_degree(G)\n",
    "avg_neighbor_degree_sg = nx.average_neighbor_degree(SG)\n",
    "core_number_g = nx.core_number(G)\n",
    "page_rank_g = nx.pagerank(G)\n",
    "page_rank_wg = nx.pagerank(WG)\n",
    "page_rank_sg = nx.pagerank(SG)"
   ]
  },
  {
   "cell_type": "code",
   "execution_count": 13,
   "metadata": {},
   "outputs": [],
   "source": [
    "# load precomputed features for each node\n",
    "f = open(\"../data/n_papers.pkl\", \"rb\")\n",
    "n_papers = pickle.load(f)\n",
    "\n",
    "f = open(\"../data/average_coauthors_n_papers.pkl\", \"rb\")\n",
    "average_coauthors_n_papers = pickle.load(f)\n",
    "\n",
    "f = open(\"../data/betweenness_centrality_g.pkl\", \"rb\")\n",
    "betweenness_centrality_g = pickle.load(f)\n",
    "\n",
    "f = open(\"../data/betweenness_centrality_wg.pkl\", \"rb\")\n",
    "betweenness_centrality_wg = pickle.load(f)"
   ]
  },
  {
   "cell_type": "code",
   "execution_count": 15,
   "metadata": {},
   "outputs": [],
   "source": [
    "# read embeddings of abstracts\n",
    "text_embeddings = pd.read_csv(\"../data/author_embedding_64.csv\", header=None)\n",
    "text_embeddings = text_embeddings.rename(columns={0: \"authorID\"})\n",
    "n_temb = text_embeddings.shape[1] - 1"
   ]
  },
  {
   "cell_type": "code",
   "execution_count": 17,
   "metadata": {},
   "outputs": [],
   "source": [
    "# create the training matrix. each node is represented as a vector of features:\n",
    "# (1-2-3) its degree, (4-5-6) the average degree of its neighbors, (7) its core number, \n",
    "# (8-9-10) its page rank, (11-12) its betweenness centrality\n",
    "# (13) the number of written papers (cited), (14) the average number of written papers of its neighbors/coauthors,\n",
    "# (15) text_embeddings from Doc2Vec\n",
    "X_train = np.zeros((n_train, 14+n_temb))\n",
    "y_train = np.zeros(n_train)\n",
    "for i,row in df_train.iterrows():\n",
    "    node = int(row['authorID'])\n",
    "    X_train[i,0] = G.degree(node)\n",
    "    X_train[i,1] = WG.degree(node)\n",
    "    X_train[i,2] = SG.degree(node)\n",
    "    X_train[i,3] = avg_neighbor_degree_g[node]\n",
    "    X_train[i,4] = avg_neighbor_degree_wg[node]\n",
    "    X_train[i,5] = avg_neighbor_degree_sg[node]\n",
    "    X_train[i,6] = core_number_g[node]\n",
    "    X_train[i,7] = page_rank_g[node]\n",
    "    X_train[i,8] = page_rank_wg[node]\n",
    "    X_train[i,9] = page_rank_sg[node]\n",
    "    X_train[i,10] = betweenness_centrality_g[node]\n",
    "    X_train[i,11] = betweenness_centrality_wg[node]\n",
    "    X_train[i,12] = n_papers[node]\n",
    "    X_train[i,13] = average_coauthors_n_papers[node]\n",
    "    X_train[i,14:] = text_embeddings[text_embeddings[\"authorID\"] == node].iloc[:,1:]\n",
    "    y_train[i] = row['h_index']"
   ]
  },
  {
   "cell_type": "code",
   "execution_count": 18,
   "metadata": {},
   "outputs": [],
   "source": [
    "# create the testing matrix. each node is represented as a vector of features:\n",
    "# (1-2-3) its degree, (4-5-6) the average degree of its neighbors, (7) its core number, \n",
    "# (8-9-10) its page rank, (11-12) its betweenness centrality\n",
    "# (13) the number of written papers (cited), (14) the average number of written papers of its neighbors/coauthors,\n",
    "# (15) text_embeddings from Doc2Vec\n",
    "X_test = np.zeros((n_test, 14+n_temb))\n",
    "for i,row in df_test.iterrows():\n",
    "    node = int(row['authorID'])\n",
    "    X_test[i,0] = G.degree(node)\n",
    "    X_test[i,1] = WG.degree(node)\n",
    "    X_test[i,2] = SG.degree(node)\n",
    "    X_test[i,3] = avg_neighbor_degree_g[node]\n",
    "    X_test[i,4] = avg_neighbor_degree_wg[node]\n",
    "    X_test[i,5] = avg_neighbor_degree_sg[node]\n",
    "    X_test[i,6] = core_number_g[node]\n",
    "    X_test[i,7] = page_rank_g[node]\n",
    "    X_test[i,8] = page_rank_wg[node]\n",
    "    X_test[i,9] = page_rank_sg[node]\n",
    "    X_test[i,10] = betweenness_centrality_g[node]\n",
    "    X_test[i,11] = betweenness_centrality_wg[node]\n",
    "    X_test[i,12] = n_papers[node]\n",
    "    X_test[i,13] = average_coauthors_n_papers[node]\n",
    "    X_test[i,14:] = text_embeddings[text_embeddings[\"authorID\"] == node].iloc[:,1:]"
   ]
  },
  {
   "cell_type": "code",
   "execution_count": 19,
   "metadata": {},
   "outputs": [],
   "source": [
    "reg = LGBMRegressor(objective='mae', n_estimators=3000)"
   ]
  },
  {
   "cell_type": "code",
   "execution_count": 20,
   "metadata": {},
   "outputs": [
    {
     "name": "stdout",
     "output_type": "stream",
     "text": [
      "3.489507227809912\n"
     ]
    }
   ],
   "source": [
    "# cross-validation\n",
    "scores = cross_val_score(reg, X_train, y_train, cv=5, scoring='neg_mean_absolute_error')\n",
    "print(np.mean(-scores))"
   ]
  },
  {
   "cell_type": "code",
   "execution_count": 21,
   "metadata": {},
   "outputs": [],
   "source": [
    "reg.fit(X_train, y_train)\n",
    "y_pred = reg.predict(X_test)"
   ]
  },
  {
   "cell_type": "code",
   "execution_count": 22,
   "metadata": {},
   "outputs": [],
   "source": [
    "# post-processing: make sure that the predicted h-index is less than the number of papers (<10)\n",
    "for i in range(len(X_test)):\n",
    "    n_papers = X_test[i, 12]\n",
    "    if n_papers < 10 and y_pred[i] > n_papers:\n",
    "        y_pred[i] = n_papers"
   ]
  },
  {
   "cell_type": "code",
   "execution_count": 23,
   "metadata": {},
   "outputs": [],
   "source": [
    "# write the predictions to file\n",
    "df_test['h_index_pred'].update(pd.Series(np.round_(y_pred, decimals=3)))\n",
    "df_test.loc[:,[\"authorID\",\"h_index_pred\"]].to_csv('../predictions/test_predictions.csv', index=False)"
   ]
  }
 ],
 "metadata": {
  "kernelspec": {
   "display_name": "Python 3",
   "language": "python",
   "name": "python3"
  },
  "language_info": {
   "codemirror_mode": {
    "name": "ipython",
    "version": 3
   },
   "file_extension": ".py",
   "mimetype": "text/x-python",
   "name": "python",
   "nbconvert_exporter": "python",
   "pygments_lexer": "ipython3",
   "version": "3.8.4"
  }
 },
 "nbformat": 4,
 "nbformat_minor": 4
}
