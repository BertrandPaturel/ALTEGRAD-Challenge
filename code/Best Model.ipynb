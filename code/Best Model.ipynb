{
 "cells": [
  {
   "cell_type": "code",
   "execution_count": 1,
   "metadata": {},
   "outputs": [],
   "source": [
    "import pandas as pd\n",
    "import numpy as np\n",
    "import networkx as nx\n",
    "import pickle\n",
    "from lightgbm import LGBMRegressor\n",
    "from sklearn.model_selection import cross_val_score\n",
    "from gensim.models import KeyedVectors"
   ]
  },
  {
   "cell_type": "code",
   "execution_count": 2,
   "metadata": {},
   "outputs": [],
   "source": [
    "# read training data\n",
    "df_train = pd.read_csv('./data/train.csv', dtype={'authorID': np.int64, 'h_index': np.float32})\n",
    "n_train = df_train.shape[0]\n",
    "\n",
    "# read test data\n",
    "df_test = pd.read_csv('./data/test.csv', dtype={'authorID': np.int64})\n",
    "n_test = df_test.shape[0]"
   ]
  },
  {
   "cell_type": "code",
   "execution_count": 3,
   "metadata": {},
   "outputs": [],
   "source": [
    "# read collaboration graph\n",
    "G = nx.read_edgelist('collaboration_network.edgelist', delimiter=' ', nodetype=int)"
   ]
  },
  {
   "cell_type": "code",
   "execution_count": 4,
   "metadata": {},
   "outputs": [],
   "source": [
    "# read weighted collaboration graph\n",
    "WG = nx.read_edgelist(\"weighted_collaboration_network.edgelist\", nodetype=int, data=((\"weight\", float),))"
   ]
  },
  {
   "cell_type": "code",
   "execution_count": 5,
   "metadata": {},
   "outputs": [],
   "source": [
    "# read similarity graph\n",
    "SG = nx.read_multiline_adjlist(\"sim_collaboration_network.adjlist\", nodetype=int)"
   ]
  },
  {
   "cell_type": "code",
   "execution_count": 6,
   "metadata": {},
   "outputs": [],
   "source": [
    "nodes = {k: v for v, k in enumerate(list(G.nodes()))}"
   ]
  },
  {
   "cell_type": "code",
   "execution_count": 7,
   "metadata": {},
   "outputs": [],
   "source": [
    "# compute graph features for each node\n",
    "avg_neighbor_degree_wg = nx.average_neighbor_degree(WG)\n",
    "avg_neighbor_degree_g = nx.average_neighbor_degree(G)\n",
    "core_number_g = nx.core_number(G)\n",
    "page_rank_g = nx.pagerank(G)\n",
    "page_rank_wg = nx.pagerank(WG)\n",
    "avg_neighbor_degree_sg = nx.average_neighbor_degree(SG)\n",
    "page_rank_sg = nx.pagerank(SG)\n",
    "eigenvector_centrality_sg = nx.eigenvector_centrality(SG)"
   ]
  },
  {
   "cell_type": "code",
   "execution_count": 8,
   "metadata": {},
   "outputs": [],
   "source": [
    "# load precomputed features for each node\n",
    "f = open(\"./data/n_papers.pkl\", \"rb\")\n",
    "n_papers = pickle.load(f)\n",
    "f.close()\n",
    "\n",
    "f = open(\"./data/average_coauthors_n_papers.pkl\", \"rb\")\n",
    "average_coauthors_n_papers = pickle.load(f)\n",
    "f.close()\n",
    "\n",
    "f = open(\"./data/betweenness_centrality_g.pkl\", \"rb\")\n",
    "betweenness_centrality_g = pickle.load(f)\n",
    "f.close()\n",
    "\n",
    "f = open(\"./data/betweenness_centrality_wg.pkl\", \"rb\")\n",
    "betweenness_centrality_wg = pickle.load(f)\n",
    "f.close()\n",
    "\n",
    "f = open(\"./data/clustering_g.pkl\", \"rb\")\n",
    "clustering_g = pickle.load(f)\n",
    "f.close()\n",
    "\n",
    "f = open(\"./data/clustering_wg.pkl\", \"rb\")\n",
    "clustering_wg = pickle.load(f)\n",
    "f.close()\n",
    "\n",
    "f = open(\"./data/clustering_sg.pkl\", \"rb\")\n",
    "clustering_sg = pickle.load(f)\n",
    "f.close()"
   ]
  },
  {
   "cell_type": "code",
   "execution_count": 9,
   "metadata": {},
   "outputs": [],
   "source": [
    "node2vec_wg = KeyedVectors.load_word2vec_format('./data/node2vec_wg.nodevectors')"
   ]
  },
  {
   "cell_type": "code",
   "execution_count": 10,
   "metadata": {},
   "outputs": [],
   "source": [
    "node2vec_pg = KeyedVectors.load_word2vec_format('./data/node2vec_pg.nodevectors')"
   ]
  },
  {
   "cell_type": "code",
   "execution_count": 11,
   "metadata": {},
   "outputs": [],
   "source": [
    "node2vec_wpg = KeyedVectors.load_word2vec_format('./data/node2vec_wpg.nodevectors')"
   ]
  },
  {
   "cell_type": "code",
   "execution_count": 12,
   "metadata": {},
   "outputs": [],
   "source": [
    "node2vec_sg = KeyedVectors.load_word2vec_format('./data/node2vec_sg.nodevectors')"
   ]
  },
  {
   "cell_type": "code",
   "execution_count": 13,
   "metadata": {},
   "outputs": [],
   "source": [
    "# read embeddings of abstracts\n",
    "text_embeddings = pd.read_csv(\"author_embedding_64.csv\", header=None)\n",
    "text_embeddings = text_embeddings.rename(columns={0: \"authorID\"})"
   ]
  },
  {
   "cell_type": "code",
   "execution_count": 14,
   "metadata": {},
   "outputs": [],
   "source": [
    "n_temb = text_embeddings.shape[1] - 1\n",
    "n_wg = node2vec_wg.vector_size\n",
    "n_wpg = node2vec_wpg.vector_size\n",
    "n_pg = node2vec_pg.vector_size\n",
    "n_sg = node2vec_sg.vector_size"
   ]
  },
  {
   "cell_type": "code",
   "execution_count": 15,
   "metadata": {},
   "outputs": [],
   "source": [
    "# read the file to create a dictionary with author key and paper list as value\n",
    "f = open(\"./data/author_papers.txt\",\"r\")\n",
    "papers_set = set()\n",
    "author_paper = {}\n",
    "for l in f:\n",
    "    auth_paps = [int(paper_id.strip()) for paper_id in l.split(\":\")[1].replace(\"[\",\"\").replace(\"]\",\"\").replace(\"\\n\",\"\").replace(\"\\'\",\"\").replace(\"\\\"\",\"\").split(\",\")]\n",
    "    author_paper[int(l.split(\":\")[0])] = auth_paps\n",
    "f.close()"
   ]
  },
  {
   "cell_type": "code",
   "execution_count": 19,
   "metadata": {},
   "outputs": [],
   "source": [
    "# create the training matrix. each node is represented as a vector of features:\n",
    "# (1-2-3) its degree, (4-5-6) the average degree of its neighbors, \n",
    "# (7) its core number, # (8-9-10) its page rank, (11-12) its betweenness centrality, \n",
    "# (13-14) its clustering coefficient, (15) its eigenvector centrality,\n",
    "# (16) the number of written papers (cited), (17) the average number of written papers of its neighbors/coauthors,\n",
    "# (18-19-20-21) embeddings from Node2Vec, (22) text_embeddings from Doc2Vec\n",
    "X_train = np.zeros((n_train, 17+n_wg+n_pg+n_wpg+n_sg+n_temb))\n",
    "y_train = np.zeros(n_train)\n",
    "for i,row in df_train.iterrows():\n",
    "    node = int(row['authorID'])\n",
    "    index = nodes[node]\n",
    "    X_train[i,0] = G.degree(node)\n",
    "    X_train[i,1] = WG.degree(node)\n",
    "    X_train[i,2] = SG.degree(node)\n",
    "    X_train[i,3] = avg_neighbor_degree_g[node]\n",
    "    X_train[i,4] = avg_neighbor_degree_wg[node]\n",
    "    X_train[i,5] = avg_neighbor_degree_sg[node]\n",
    "    X_train[i,6] = core_number_g[node]\n",
    "    X_train[i,7] = page_rank_g[node]\n",
    "    X_train[i,8] = page_rank_wg[node]\n",
    "    X_train[i,9] = page_rank_sg[node]\n",
    "    X_train[i,10] = betweenness_centrality_g[node]\n",
    "    X_train[i,11] = betweenness_centrality_wg[node]\n",
    "    X_train[i,12] = clustering_wg[node]\n",
    "    X_train[i,13] = clustering_sg[node]\n",
    "    X_train[i,14] = eigenvector_centrality_sg[node]\n",
    "    X_train[i,15] = n_papers[node]\n",
    "    X_train[i,16] = average_coauthors_n_papers[node]\n",
    "    if node in author_paper:\n",
    "        for p in author_paper[node]:\n",
    "            if str(p) in node2vec_pg:\n",
    "                X_train[i,17:17+n_pg]+=node2vec_pg[str(p)]\n",
    "                X_train[i,17+n_pg:17+n_pg+n_wpg]+=node2vec_wpg[str(p)]\n",
    "    if str(node) in node2vec_sg:\n",
    "                X_train[i,17+n_pg+n_wpg:17+n_pg+n_wpg+n_sg] = node2vec_sg[str(node)]\n",
    "    X_train[i,17+n_pg+n_wpg+n_sg:17+n_pg+n_wpg+n_sg+n_wg] = node2vec_wg[str(node)]\n",
    "    X_train[i,17+n_pg+n_wpg+n_sg+n_wg:] = text_embeddings[text_embeddings[\"authorID\"] == node].iloc[:,1:]\n",
    "    y_train[i] = row['h_index']"
   ]
  },
  {
   "cell_type": "code",
   "execution_count": 36,
   "metadata": {},
   "outputs": [],
   "source": [
    "from sklearn.metrics import make_scorer\n",
    "from sklearn.metrics import mean_absolute_error\n",
    "\n",
    "def custom_loss(y, y_pred, **kwargs):\n",
    "    return mean_absolute_error(y, np.round(y_pred))\n",
    "\n",
    "sk_loss = make_scorer(custom_loss, greater_is_better=False)"
   ]
  },
  {
   "cell_type": "code",
   "execution_count": 42,
   "metadata": {},
   "outputs": [],
   "source": [
    "reg = LGBMRegressor(objective='mae', boosting_type='dart', n_estimators=10000, learning_rate=0.06, n_jobs=1)"
   ]
  },
  {
   "cell_type": "code",
   "execution_count": 43,
   "metadata": {},
   "outputs": [
    {
     "name": "stdout",
     "output_type": "stream",
     "text": [
      "3.1968950796566813\n"
     ]
    }
   ],
   "source": [
    "# cross-validation\n",
    "scores = cross_val_score(reg, X_train, y_train, cv=5, scoring='neg_mean_absolute_error', n_jobs=5)\n",
    "print(np.mean(-scores))"
   ]
  },
  {
   "cell_type": "code",
   "execution_count": 44,
   "metadata": {},
   "outputs": [
    {
     "name": "stdout",
     "output_type": "stream",
     "text": [
      "3.179254839614701\n"
     ]
    }
   ],
   "source": [
    "# cross-validation\n",
    "scores = cross_val_score(reg, X_train, y_train, cv=5, scoring=sk_loss, n_jobs=5)\n",
    "print(np.mean(-scores))"
   ]
  },
  {
   "cell_type": "code",
   "execution_count": 18,
   "metadata": {},
   "outputs": [],
   "source": [
    "# create the testing matrix. each node is represented as a vector of features:\n",
    "# (1-2-3) its degree, (4-5-6) the average degree of its neighbors, \n",
    "# (7) its core number, # (8-9-10) its page rank, (11-12) its betweenness centrality, \n",
    "# (13-14) its clustering coefficient, (15) its eigenvector centrality,\n",
    "# (16) the number of written papers (cited), (17) the average number of written papers of its neighbors/coauthors,\n",
    "# (18-19-20-21) embeddings from Node2Vec, (22) text_embeddings from Doc2Vec\n",
    "X_test = np.zeros((n_test, 17+n_wg+n_pg+n_wpg+n_sg+n_temb))\n",
    "for i,row in df_test.iterrows():\n",
    "    node = int(row['authorID'])\n",
    "    index = nodes[node]\n",
    "    X_test[i,0] = G.degree(node)\n",
    "    X_test[i,1] = WG.degree(node)\n",
    "    X_test[i,2] = SG.degree(node)\n",
    "    X_test[i,3] = avg_neighbor_degree_g[node]\n",
    "    X_test[i,4] = avg_neighbor_degree_wg[node]\n",
    "    X_test[i,5] = avg_neighbor_degree_sg[node]\n",
    "    X_test[i,6] = core_number_g[node]\n",
    "    X_test[i,7] = page_rank_g[node]\n",
    "    X_test[i,8] = page_rank_wg[node]\n",
    "    X_test[i,9] = page_rank_sg[node]\n",
    "    X_test[i,10] = betweenness_centrality_g[node]\n",
    "    X_test[i,11] = betweenness_centrality_wg[node]\n",
    "    X_test[i,12] = clustering_wg[node]\n",
    "    X_test[i,13] = clustering_sg[node]\n",
    "    X_test[i,14] = eigenvector_centrality_sg[node]\n",
    "    X_test[i,15] = n_papers[node]\n",
    "    X_test[i,16] = average_coauthors_n_papers[node]\n",
    "    if node in author_paper:\n",
    "        for p in author_paper[node]:\n",
    "            if str(p) in node2vec_pg:\n",
    "                X_test[i,17:17+n_pg]+=node2vec_pg[str(p)]\n",
    "                X_test[i,17+n_pg:17+n_pg+n_wpg]+=node2vec_wpg[str(p)]\n",
    "    if str(node) in node2vec_sg:\n",
    "                X_test[i,17+n_pg+n_wpg:17+n_pg+n_wpg+n_sg] = node2vec_sg[str(node)]\n",
    "    X_test[i,17+n_pg+n_wpg+n_sg:17+n_pg+n_wpg+n_sg+n_wg] = node2vec_wg[str(node)]\n",
    "    X_test[i,17+n_pg+n_wpg+n_sg+n_wg:] = text_embeddings[text_embeddings[\"authorID\"] == node].iloc[:,1:]"
   ]
  },
  {
   "cell_type": "code",
   "execution_count": 45,
   "metadata": {},
   "outputs": [],
   "source": [
    "reg.fit(X_train, y_train)\n",
    "y_pred = reg.predict(X_test)"
   ]
  },
  {
   "cell_type": "code",
   "execution_count": 46,
   "metadata": {},
   "outputs": [],
   "source": [
    "y_pred = np.round(y_pred)"
   ]
  },
  {
   "cell_type": "code",
   "execution_count": 47,
   "metadata": {},
   "outputs": [],
   "source": [
    "# post-processing: make sure that the predicted h-index is less than the number of papers (<10)\n",
    "for i in range(len(X_test)):\n",
    "    npapers = X_test[i, 15]\n",
    "    if npapers < 10 and y_pred[i] > npapers:\n",
    "        y_pred[i] = npapers\n",
    "    if y_pred[i] < 0:\n",
    "        y_pred[i] = 1"
   ]
  },
  {
   "cell_type": "code",
   "execution_count": 48,
   "metadata": {},
   "outputs": [],
   "source": [
    "# write the predictions to file\n",
    "df_test['h_index_pred'].update(pd.Series(np.round_(y_pred, decimals=3)))\n",
    "df_test.loc[:,[\"authorID\",\"h_index_pred\"]].to_csv('test_predictions_32.csv', index=False)"
   ]
  }
 ],
 "metadata": {
  "kernelspec": {
   "display_name": "Python 3",
   "language": "python",
   "name": "python3"
  },
  "language_info": {
   "codemirror_mode": {
    "name": "ipython",
    "version": 3
   },
   "file_extension": ".py",
   "mimetype": "text/x-python",
   "name": "python",
   "nbconvert_exporter": "python",
   "pygments_lexer": "ipython3",
   "version": "3.8.4"
  }
 },
 "nbformat": 4,
 "nbformat_minor": 4
}
