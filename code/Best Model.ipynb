{
 "cells": [
  {
   "cell_type": "code",
<<<<<<< HEAD
<<<<<<< HEAD
<<<<<<< HEAD
   "execution_count": 10,
=======
   "execution_count": 376,
>>>>>>> d7590c861dd9e7b7773af7a410399a522ed0fcaa
=======
   "execution_count": 376,
>>>>>>> d7590c861dd9e7b7773af7a410399a522ed0fcaa
=======
   "execution_count": 376,
>>>>>>> d7590c861dd9e7b7773af7a410399a522ed0fcaa
   "metadata": {},
   "outputs": [],
   "source": [
    "import pandas as pd\n",
    "import numpy as np\n",
    "import networkx as nx\n",
    "import pickle\n",
    "from lightgbm import LGBMRegressor\n",
<<<<<<< HEAD
<<<<<<< HEAD
<<<<<<< HEAD
    "from sklearn.model_selection import cross_val_score\n",
    "from gensim.models import KeyedVectors"
=======
    "from sklearn.model_selection import cross_val_score"
>>>>>>> d7590c861dd9e7b7773af7a410399a522ed0fcaa
=======
    "from sklearn.model_selection import cross_val_score"
>>>>>>> d7590c861dd9e7b7773af7a410399a522ed0fcaa
=======
    "from sklearn.model_selection import cross_val_score"
>>>>>>> d7590c861dd9e7b7773af7a410399a522ed0fcaa
   ]
  },
  {
   "cell_type": "code",
<<<<<<< HEAD
<<<<<<< HEAD
<<<<<<< HEAD
   "execution_count": 2,
=======
   "execution_count": 3,
>>>>>>> d7590c861dd9e7b7773af7a410399a522ed0fcaa
=======
   "execution_count": 3,
>>>>>>> d7590c861dd9e7b7773af7a410399a522ed0fcaa
=======
   "execution_count": 3,
>>>>>>> d7590c861dd9e7b7773af7a410399a522ed0fcaa
   "metadata": {},
   "outputs": [],
   "source": [
    "# read training data\n",
    "df_train = pd.read_csv('../data/train.csv', dtype={'authorID': np.int64, 'h_index': np.float32})\n",
    "n_train = df_train.shape[0]\n",
    "\n",
    "# read test data\n",
    "df_test = pd.read_csv('../data/test.csv', dtype={'authorID': np.int64})\n",
    "n_test = df_test.shape[0]"
   ]
  },
  {
   "cell_type": "code",
<<<<<<< HEAD
<<<<<<< HEAD
<<<<<<< HEAD
   "execution_count": 3,
=======
   "execution_count": 4,
>>>>>>> d7590c861dd9e7b7773af7a410399a522ed0fcaa
=======
   "execution_count": 4,
>>>>>>> d7590c861dd9e7b7773af7a410399a522ed0fcaa
=======
   "execution_count": 4,
>>>>>>> d7590c861dd9e7b7773af7a410399a522ed0fcaa
   "metadata": {},
   "outputs": [],
   "source": [
    "# read collaboration graph\n",
    "G = nx.read_edgelist('../data/collaboration_network.edgelist', delimiter=' ', nodetype=int)"
   ]
  },
  {
   "cell_type": "code",
<<<<<<< HEAD
<<<<<<< HEAD
<<<<<<< HEAD
   "execution_count": 4,
=======
   "execution_count": 5,
>>>>>>> d7590c861dd9e7b7773af7a410399a522ed0fcaa
=======
   "execution_count": 5,
>>>>>>> d7590c861dd9e7b7773af7a410399a522ed0fcaa
=======
   "execution_count": 5,
>>>>>>> d7590c861dd9e7b7773af7a410399a522ed0fcaa
   "metadata": {},
   "outputs": [],
   "source": [
    "# read weighted collaboration graph\n",
    "WG = nx.read_edgelist(\"../data/weighted_collaboration_network.edgelist\", nodetype=int, data=((\"weight\", float),))"
   ]
  },
  {
   "cell_type": "code",
<<<<<<< HEAD
<<<<<<< HEAD
<<<<<<< HEAD
   "execution_count": 5,
=======
   "execution_count": 32,
>>>>>>> d7590c861dd9e7b7773af7a410399a522ed0fcaa
=======
   "execution_count": 32,
>>>>>>> d7590c861dd9e7b7773af7a410399a522ed0fcaa
=======
   "execution_count": 32,
>>>>>>> d7590c861dd9e7b7773af7a410399a522ed0fcaa
   "metadata": {},
   "outputs": [],
   "source": [
    "# read similarity graph\n",
    "SG = nx.read_multiline_adjlist(\"../data/sim_collaboration_network.adjlist\", nodetype=int)"
   ]
  },
  {
   "cell_type": "code",
<<<<<<< HEAD
<<<<<<< HEAD
<<<<<<< HEAD
   "execution_count": 6,
=======
   "execution_count": 19,
>>>>>>> d7590c861dd9e7b7773af7a410399a522ed0fcaa
=======
   "execution_count": 19,
>>>>>>> d7590c861dd9e7b7773af7a410399a522ed0fcaa
=======
   "execution_count": 19,
>>>>>>> d7590c861dd9e7b7773af7a410399a522ed0fcaa
   "metadata": {},
   "outputs": [],
   "source": [
    "nodes = {k: v for v, k in enumerate(list(G.nodes()))}"
   ]
  },
  {
   "cell_type": "code",
   "execution_count": 7,
   "metadata": {},
   "outputs": [],
   "source": [
    "# compute graph features for each node\n",
    "avg_neighbor_degree_wg = nx.average_neighbor_degree(WG)\n",
    "avg_neighbor_degree_g = nx.average_neighbor_degree(G)\n",
    "core_number_g = nx.core_number(G)\n",
    "page_rank_g = nx.pagerank(G)\n",
    "page_rank_wg = nx.pagerank(WG)\n",
    "avg_neighbor_degree_sg = nx.average_neighbor_degree(SG)\n",
    "page_rank_sg = nx.pagerank(SG)"
   ]
  },
  {
   "cell_type": "code",
<<<<<<< HEAD
<<<<<<< HEAD
<<<<<<< HEAD
   "execution_count": 8,
   "metadata": {},
   "outputs": [],
   "source": [
    "eigenvector_centrality_sg = nx.eigenvector_centrality(SG)"
   ]
  },
  {
   "cell_type": "code",
   "execution_count": 9,
=======
   "execution_count": 58,
>>>>>>> d7590c861dd9e7b7773af7a410399a522ed0fcaa
=======
   "execution_count": 58,
>>>>>>> d7590c861dd9e7b7773af7a410399a522ed0fcaa
=======
   "execution_count": 58,
>>>>>>> d7590c861dd9e7b7773af7a410399a522ed0fcaa
   "metadata": {},
   "outputs": [],
   "source": [
    "# load precomputed features for each node\n",
    "f = open(\"../data/n_papers.pkl\", \"rb\")\n",
    "n_papers = pickle.load(f)\n",
    "f.close()\n",
    "\n",
    "f = open(\"../data/average_coauthors_n_papers.pkl\", \"rb\")\n",
    "average_coauthors_n_papers = pickle.load(f)\n",
    "f.close()\n",
    "\n",
    "f = open(\"../data/betweenness_centrality_g.pkl\", \"rb\")\n",
    "betweenness_centrality_g = pickle.load(f)\n",
    "f.close()\n",
    "\n",
    "f = open(\"../data/betweenness_centrality_wg.pkl\", \"rb\")\n",
    "betweenness_centrality_wg = pickle.load(f)\n",
    "f.close()\n",
    "\n",
    "f = open(\"../data/clustering_g.pkl\", \"rb\")\n",
    "clustering_g = pickle.load(f)\n",
    "f.close()\n",
    "\n",
    "f = open(\"../data/clustering_wg.pkl\", \"rb\")\n",
    "clustering_wg = pickle.load(f)\n",
    "f.close()\n",
    "\n",
    "f = open(\"../data/clustering_sg.pkl\", \"rb\")\n",
    "clustering_sg = pickle.load(f)\n",
    "f.close()"
   ]
  },
  {
   "cell_type": "code",
<<<<<<< HEAD
<<<<<<< HEAD
<<<<<<< HEAD
   "execution_count": 30,
   "metadata": {},
   "outputs": [],
   "source": [
    "node2vec_wv = KeyedVectors.load_word2vec_format('../data/node2vec_emb_.nodevectors')"
   ]
  },
  {
   "cell_type": "code",
   "execution_count": 39,
=======
   "execution_count": 293,
>>>>>>> d7590c861dd9e7b7773af7a410399a522ed0fcaa
=======
   "execution_count": 293,
>>>>>>> d7590c861dd9e7b7773af7a410399a522ed0fcaa
=======
   "execution_count": 293,
>>>>>>> d7590c861dd9e7b7773af7a410399a522ed0fcaa
   "metadata": {},
   "outputs": [],
   "source": [
    "# read embeddings of abstracts\n",
    "text_embeddings = pd.read_csv(\"../data/author_embedding_64.csv\", header=None)\n",
    "text_embeddings = text_embeddings.rename(columns={0: \"authorID\"})"
   ]
  },
  {
   "cell_type": "code",
<<<<<<< HEAD
<<<<<<< HEAD
<<<<<<< HEAD
   "execution_count": 31,
=======
   "execution_count": 377,
>>>>>>> d7590c861dd9e7b7773af7a410399a522ed0fcaa
=======
   "execution_count": 377,
>>>>>>> d7590c861dd9e7b7773af7a410399a522ed0fcaa
=======
   "execution_count": 377,
>>>>>>> d7590c861dd9e7b7773af7a410399a522ed0fcaa
   "metadata": {},
   "outputs": [],
   "source": [
    "n_temb = text_embeddings.shape[1] - 1\n",
<<<<<<< HEAD
<<<<<<< HEAD
<<<<<<< HEAD
    "n_wv = node2vec_wv.vector_size"
=======
    "n_gemb = graph_embeddings.shape[1]"
>>>>>>> d7590c861dd9e7b7773af7a410399a522ed0fcaa
=======
    "n_gemb = graph_embeddings.shape[1]"
>>>>>>> d7590c861dd9e7b7773af7a410399a522ed0fcaa
=======
    "n_gemb = graph_embeddings.shape[1]"
>>>>>>> d7590c861dd9e7b7773af7a410399a522ed0fcaa
   ]
  },
  {
   "cell_type": "code",
<<<<<<< HEAD
<<<<<<< HEAD
<<<<<<< HEAD
   "execution_count": 40,
=======
   "execution_count": 378,
>>>>>>> d7590c861dd9e7b7773af7a410399a522ed0fcaa
=======
   "execution_count": 378,
>>>>>>> d7590c861dd9e7b7773af7a410399a522ed0fcaa
=======
   "execution_count": 378,
>>>>>>> d7590c861dd9e7b7773af7a410399a522ed0fcaa
   "metadata": {},
   "outputs": [],
   "source": [
    "# create the training matrix. each node is represented as a vector of features:\n",
    "# (1-2-3) its degree, (4-5-6) the average degree of its neighbors, \n",
    "# (7) its core number, # (8-9-10) its page rank, (11-12) its betweenness centrality, \n",
    "# (13-14) its clustering coefficient, (15) its eigenvector centrality,\n",
    "# (16) the number of written papers (cited), (17) the average number of written papers of its neighbors/coauthors,\n",
    "# (18) text_embeddings from Doc2Vec\n",
<<<<<<< HEAD
<<<<<<< HEAD
<<<<<<< HEAD
    "X_train = np.zeros((n_train, 17+n_wv+n_temb))\n",
=======
    "X_train = np.zeros((n_train, 17+n_temb))\n",
>>>>>>> d7590c861dd9e7b7773af7a410399a522ed0fcaa
=======
    "X_train = np.zeros((n_train, 17+n_temb))\n",
>>>>>>> d7590c861dd9e7b7773af7a410399a522ed0fcaa
=======
    "X_train = np.zeros((n_train, 17+n_temb))\n",
>>>>>>> d7590c861dd9e7b7773af7a410399a522ed0fcaa
    "y_train = np.zeros(n_train)\n",
    "for i,row in df_train.iterrows():\n",
    "    node = int(row['authorID'])\n",
    "    index = nodes[node]\n",
    "    X_train[i,0] = G.degree(node)\n",
    "    X_train[i,1] = WG.degree(node)\n",
    "    X_train[i,2] = SG.degree(node)\n",
    "    X_train[i,3] = avg_neighbor_degree_g[node]\n",
    "    X_train[i,4] = avg_neighbor_degree_wg[node]\n",
    "    X_train[i,5] = avg_neighbor_degree_sg[node]\n",
    "    X_train[i,6] = core_number_g[node]\n",
    "    X_train[i,7] = page_rank_g[node]\n",
    "    X_train[i,8] = page_rank_wg[node]\n",
    "    X_train[i,9] = page_rank_sg[node]\n",
    "    X_train[i,10] = betweenness_centrality_g[node]\n",
    "    X_train[i,11] = betweenness_centrality_wg[node]\n",
    "    X_train[i,12] = clustering_wg[node]\n",
    "    X_train[i,13] = clustering_sg[node]\n",
<<<<<<< HEAD
<<<<<<< HEAD
<<<<<<< HEAD
    "    X_train[i,14] = eigenvector_centrality_sg[node]\n",
    "    X_train[i,15] = n_papers[node]\n",
    "    X_train[i,16] = average_coauthors_n_papers[node]\n",
    "    X_train[i,17:17+n_wv] = node2vec_wv[str(node)]\n",
    "    X_train[i,17+n_wv:] = text_embeddings[text_embeddings[\"authorID\"] == node].iloc[:,1:]\n",
=======
=======
>>>>>>> d7590c861dd9e7b7773af7a410399a522ed0fcaa
=======
>>>>>>> d7590c861dd9e7b7773af7a410399a522ed0fcaa
    "    X_train[i,14] = eigenvector_centrality_wg[node]\n",
    "    X_train[i,15] = n_papers[node]\n",
    "    X_train[i,16] = average_coauthors_n_papers[node]\n",
    "    X_train[i,17:] = text_embeddings[text_embeddings[\"authorID\"] == node].iloc[:,1:]\n",
<<<<<<< HEAD
<<<<<<< HEAD
>>>>>>> d7590c861dd9e7b7773af7a410399a522ed0fcaa
=======
>>>>>>> d7590c861dd9e7b7773af7a410399a522ed0fcaa
=======
>>>>>>> d7590c861dd9e7b7773af7a410399a522ed0fcaa
    "    y_train[i] = row['h_index']"
   ]
  },
  {
   "cell_type": "code",
<<<<<<< HEAD
<<<<<<< HEAD
<<<<<<< HEAD
   "execution_count": 41,
=======
   "execution_count": 379,
>>>>>>> d7590c861dd9e7b7773af7a410399a522ed0fcaa
=======
   "execution_count": 379,
>>>>>>> d7590c861dd9e7b7773af7a410399a522ed0fcaa
=======
   "execution_count": 379,
>>>>>>> d7590c861dd9e7b7773af7a410399a522ed0fcaa
   "metadata": {},
   "outputs": [],
   "source": [
    "reg = LGBMRegressor(objective='mae', n_estimators=3000)"
   ]
  },
  {
   "cell_type": "code",
<<<<<<< HEAD
<<<<<<< HEAD
<<<<<<< HEAD
   "execution_count": 34,
=======
   "execution_count": 380,
>>>>>>> d7590c861dd9e7b7773af7a410399a522ed0fcaa
=======
   "execution_count": 380,
>>>>>>> d7590c861dd9e7b7773af7a410399a522ed0fcaa
=======
   "execution_count": 380,
>>>>>>> d7590c861dd9e7b7773af7a410399a522ed0fcaa
   "metadata": {},
   "outputs": [
    {
     "name": "stdout",
     "output_type": "stream",
     "text": [
<<<<<<< HEAD
<<<<<<< HEAD
<<<<<<< HEAD
      "3.3812817659399315\n"
=======
      "3.4119838651911407\n"
>>>>>>> d7590c861dd9e7b7773af7a410399a522ed0fcaa
=======
      "3.4119838651911407\n"
>>>>>>> d7590c861dd9e7b7773af7a410399a522ed0fcaa
=======
      "3.4119838651911407\n"
>>>>>>> d7590c861dd9e7b7773af7a410399a522ed0fcaa
     ]
    }
   ],
   "source": [
    "# cross-validation\n",
    "scores = cross_val_score(reg, X_train, y_train, cv=5, scoring='neg_mean_absolute_error')\n",
    "print(np.mean(-scores))"
   ]
  },
  {
   "cell_type": "code",
<<<<<<< HEAD
<<<<<<< HEAD
<<<<<<< HEAD
   "execution_count": 35,
=======
   "execution_count": 381,
>>>>>>> d7590c861dd9e7b7773af7a410399a522ed0fcaa
=======
   "execution_count": 381,
>>>>>>> d7590c861dd9e7b7773af7a410399a522ed0fcaa
=======
   "execution_count": 381,
>>>>>>> d7590c861dd9e7b7773af7a410399a522ed0fcaa
   "metadata": {},
   "outputs": [],
   "source": [
    "# create the testing matrix. each node is represented as a vector of features:\n",
    "# (1-2-3) its degree, (4-5-6) the average degree of its neighbors, \n",
    "# (7) its core number, # (8-9-10) its page rank, (11-12) its betweenness centrality, \n",
    "# (13-14-15) its clustering coefficient, (16) its eigenvector centrality,\n",
    "# (17) the number of written papers (cited), (18) the average number of written papers of its neighbors/coauthors,\n",
    "# (19) text_embeddings from Doc2Vec\n",
<<<<<<< HEAD
<<<<<<< HEAD
<<<<<<< HEAD
    "X_test = np.zeros((n_test, 17+n_wv+n_temb))\n",
=======
    "X_test = np.zeros((n_test, 17+n_temb))\n",
>>>>>>> d7590c861dd9e7b7773af7a410399a522ed0fcaa
=======
    "X_test = np.zeros((n_test, 17+n_temb))\n",
>>>>>>> d7590c861dd9e7b7773af7a410399a522ed0fcaa
=======
    "X_test = np.zeros((n_test, 17+n_temb))\n",
>>>>>>> d7590c861dd9e7b7773af7a410399a522ed0fcaa
    "for i,row in df_test.iterrows():\n",
    "    node = int(row['authorID'])\n",
    "    index = nodes[node]\n",
    "    X_test[i,0] = G.degree(node)\n",
    "    X_test[i,1] = WG.degree(node)\n",
    "    X_test[i,2] = SG.degree(node)\n",
    "    X_test[i,3] = avg_neighbor_degree_g[node]\n",
    "    X_test[i,4] = avg_neighbor_degree_wg[node]\n",
    "    X_test[i,5] = avg_neighbor_degree_sg[node]\n",
    "    X_test[i,6] = core_number_g[node]\n",
    "    X_test[i,7] = page_rank_g[node]\n",
    "    X_test[i,8] = page_rank_wg[node]\n",
    "    X_test[i,9] = page_rank_sg[node]\n",
    "    X_test[i,10] = betweenness_centrality_g[node]\n",
    "    X_test[i,11] = betweenness_centrality_wg[node]\n",
    "    X_test[i,12] = clustering_wg[node]\n",
    "    X_test[i,13] = clustering_sg[node]\n",
<<<<<<< HEAD
<<<<<<< HEAD
<<<<<<< HEAD
    "    X_test[i,14] = eigenvector_centrality_sg[node]\n",
    "    X_test[i,15] = n_papers[node]\n",
    "    X_test[i,16] = average_coauthors_n_papers[node]\n",
    "    X_test[i,17:17+n_wv] = node2vec_wv[str(node)]\n",
    "    X_test[i,17+n_wv:] = text_embeddings[text_embeddings[\"authorID\"] == node].iloc[:,1:]"
=======
=======
>>>>>>> d7590c861dd9e7b7773af7a410399a522ed0fcaa
=======
>>>>>>> d7590c861dd9e7b7773af7a410399a522ed0fcaa
    "    X_test[i,14] = eigenvector_centrality_wg[node]\n",
    "    X_test[i,15] = n_papers[node]\n",
    "    X_test[i,16] = average_coauthors_n_papers[node]\n",
    "    X_test[i,17:] = text_embeddings[text_embeddings[\"authorID\"] == node].iloc[:,1:]"
<<<<<<< HEAD
<<<<<<< HEAD
>>>>>>> d7590c861dd9e7b7773af7a410399a522ed0fcaa
=======
>>>>>>> d7590c861dd9e7b7773af7a410399a522ed0fcaa
=======
>>>>>>> d7590c861dd9e7b7773af7a410399a522ed0fcaa
   ]
  },
  {
   "cell_type": "code",
<<<<<<< HEAD
<<<<<<< HEAD
<<<<<<< HEAD
   "execution_count": 36,
=======
   "execution_count": 382,
>>>>>>> d7590c861dd9e7b7773af7a410399a522ed0fcaa
=======
   "execution_count": 382,
>>>>>>> d7590c861dd9e7b7773af7a410399a522ed0fcaa
=======
   "execution_count": 382,
>>>>>>> d7590c861dd9e7b7773af7a410399a522ed0fcaa
   "metadata": {},
   "outputs": [],
   "source": [
    "reg.fit(X_train, y_train)\n",
    "y_pred = reg.predict(X_test)"
   ]
  },
  {
   "cell_type": "code",
<<<<<<< HEAD
<<<<<<< HEAD
<<<<<<< HEAD
   "execution_count": 37,
=======
   "execution_count": 383,
>>>>>>> d7590c861dd9e7b7773af7a410399a522ed0fcaa
=======
   "execution_count": 383,
>>>>>>> d7590c861dd9e7b7773af7a410399a522ed0fcaa
=======
   "execution_count": 383,
>>>>>>> d7590c861dd9e7b7773af7a410399a522ed0fcaa
   "metadata": {},
   "outputs": [],
   "source": [
    "# post-processing: make sure that the predicted h-index is less than the number of papers (<10)\n",
    "for i in range(len(X_test)):\n",
    "    npapers = X_test[i, 15]\n",
    "    if npapers < 10 and y_pred[i] > npapers:\n",
    "        y_pred[i] = npapers\n",
    "    if y_pred[i] < 0:\n",
    "        y_pred[i] = 1"
   ]
  },
  {
   "cell_type": "code",
<<<<<<< HEAD
<<<<<<< HEAD
<<<<<<< HEAD
   "execution_count": 38,
=======
   "execution_count": 253,
>>>>>>> d7590c861dd9e7b7773af7a410399a522ed0fcaa
=======
   "execution_count": 253,
>>>>>>> d7590c861dd9e7b7773af7a410399a522ed0fcaa
=======
   "execution_count": 253,
>>>>>>> d7590c861dd9e7b7773af7a410399a522ed0fcaa
   "metadata": {},
   "outputs": [],
   "source": [
    "# write the predictions to file\n",
    "df_test['h_index_pred'].update(pd.Series(np.round_(y_pred, decimals=3)))\n",
<<<<<<< HEAD
<<<<<<< HEAD
<<<<<<< HEAD
    "df_test.loc[:,[\"authorID\",\"h_index_pred\"]].to_csv('../predictions/test_predictions_20.csv', index=False)"
=======
=======
>>>>>>> d7590c861dd9e7b7773af7a410399a522ed0fcaa
=======
>>>>>>> d7590c861dd9e7b7773af7a410399a522ed0fcaa
    "df_test.loc[:,[\"authorID\",\"h_index_pred\"]].to_csv('../predictions/test_predictions_19.csv', index=False)"
   ]
  },
  {
   "cell_type": "code",
   "execution_count": 384,
   "metadata": {},
   "outputs": [],
   "source": [
    "feature_imp = pd.DataFrame(sorted(zip(range(X_train.shape[1]),reg.feature_importances_)), columns=['Value','Feature'])"
   ]
  },
  {
   "cell_type": "code",
   "execution_count": 385,
   "metadata": {
    "scrolled": true
   },
   "outputs": [
    {
     "data": {
      "image/png": "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\n",
      "text/plain": [
       "<Figure size 1440x720 with 1 Axes>"
      ]
     },
     "metadata": {
      "needs_background": "light"
     },
     "output_type": "display_data"
    }
   ],
   "source": [
    "import matplotlib.pyplot as plt\n",
    "import seaborn as sns\n",
    "import warnings\n",
    "warnings.simplefilter(action='ignore', category=FutureWarning)\n",
    "\n",
    "plt.figure(figsize=(20, 10))\n",
    "sns.barplot(x=\"Value\", y=\"Feature\", data=feature_imp.sort_values(by=\"Value\", ascending=False))\n",
    "plt.title('LightGBM Features (avg over folds)')\n",
    "plt.tight_layout()\n",
    "plt.show()"
<<<<<<< HEAD
<<<<<<< HEAD
>>>>>>> d7590c861dd9e7b7773af7a410399a522ed0fcaa
=======
>>>>>>> d7590c861dd9e7b7773af7a410399a522ed0fcaa
=======
>>>>>>> d7590c861dd9e7b7773af7a410399a522ed0fcaa
   ]
  }
 ],
 "metadata": {
  "kernelspec": {
   "display_name": "Python 3",
   "language": "python",
   "name": "python3"
  },
  "language_info": {
   "codemirror_mode": {
    "name": "ipython",
    "version": 3
   },
   "file_extension": ".py",
   "mimetype": "text/x-python",
   "name": "python",
   "nbconvert_exporter": "python",
   "pygments_lexer": "ipython3",
   "version": "3.8.4"
  }
 },
 "nbformat": 4,
 "nbformat_minor": 4
}
