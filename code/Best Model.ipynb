{
 "cells": [
  {
   "cell_type": "code",
   "execution_count": 10,
   "metadata": {},
   "outputs": [],
   "source": [
    "import pandas as pd\n",
    "import numpy as np\n",
    "import networkx as nx\n",
    "import pickle\n",
    "from lightgbm import LGBMRegressor\n",
    "from sklearn.model_selection import cross_val_score\n",
    "from gensim.models import KeyedVectors"
   ]
  },
  {
   "cell_type": "code",
   "execution_count": 2,
   "metadata": {},
   "outputs": [],
   "source": [
    "# read training data\n",
    "df_train = pd.read_csv('../data/train.csv', dtype={'authorID': np.int64, 'h_index': np.float32})\n",
    "n_train = df_train.shape[0]\n",
    "\n",
    "# read test data\n",
    "df_test = pd.read_csv('../data/test.csv', dtype={'authorID': np.int64})\n",
    "n_test = df_test.shape[0]"
   ]
  },
  {
   "cell_type": "code",
   "execution_count": 3,
   "metadata": {},
   "outputs": [],
   "source": [
    "# read collaboration graph\n",
    "G = nx.read_edgelist('../data/collaboration_network.edgelist', delimiter=' ', nodetype=int)"
   ]
  },
  {
   "cell_type": "code",
   "execution_count": 4,
   "metadata": {},
   "outputs": [],
   "source": [
    "# read weighted collaboration graph\n",
    "WG = nx.read_edgelist(\"../data/weighted_collaboration_network.edgelist\", nodetype=int, data=((\"weight\", float),))"
   ]
  },
  {
   "cell_type": "code",
   "execution_count": 5,
   "metadata": {},
   "outputs": [],
   "source": [
    "# read similarity graph\n",
    "SG = nx.read_multiline_adjlist(\"../data/sim_collaboration_network.adjlist\", nodetype=int)"
   ]
  },
  {
   "cell_type": "code",
   "execution_count": 6,
   "metadata": {},
   "outputs": [],
   "source": [
    "nodes = {k: v for v, k in enumerate(list(G.nodes()))}"
   ]
  },
  {
   "cell_type": "code",
   "execution_count": 7,
   "metadata": {},
   "outputs": [],
   "source": [
    "# compute graph features for each node\n",
    "avg_neighbor_degree_wg = nx.average_neighbor_degree(WG)\n",
    "avg_neighbor_degree_g = nx.average_neighbor_degree(G)\n",
    "core_number_g = nx.core_number(G)\n",
    "page_rank_g = nx.pagerank(G)\n",
    "page_rank_wg = nx.pagerank(WG)\n",
    "avg_neighbor_degree_sg = nx.average_neighbor_degree(SG)\n",
    "page_rank_sg = nx.pagerank(SG)"
   ]
  },
  {
   "cell_type": "code",
   "execution_count": 8,
   "metadata": {},
   "outputs": [],
   "source": [
    "eigenvector_centrality_sg = nx.eigenvector_centrality(SG)"
   ]
  },
  {
   "cell_type": "code",
   "execution_count": 254,
   "metadata": {},
   "outputs": [],
   "source": [
    "# load precomputed features for each node\n",
    "f = open(\"../data/n_papers.pkl\", \"rb\")\n",
    "n_papers = pickle.load(f)\n",
    "f.close()\n",
    "\n",
    "f = open(\"../data/average_coauthors_n_papers.pkl\", \"rb\")\n",
    "average_coauthors_n_papers = pickle.load(f)\n",
    "f.close()\n",
    "\n",
    "f = open(\"../data/betweenness_centrality_g.pkl\", \"rb\")\n",
    "betweenness_centrality_g = pickle.load(f)\n",
    "f.close()\n",
    "\n",
    "f = open(\"../data/betweenness_centrality_wg.pkl\", \"rb\")\n",
    "betweenness_centrality_wg = pickle.load(f)\n",
    "f.close()\n",
    "\n",
    "f = open(\"../data/clustering_g.pkl\", \"rb\")\n",
    "clustering_g = pickle.load(f)\n",
    "f.close()\n",
    "\n",
    "f = open(\"../data/clustering_wg.pkl\", \"rb\")\n",
    "clustering_wg = pickle.load(f)\n",
    "f.close()\n",
    "\n",
    "f = open(\"../data/clustering_sg.pkl\", \"rb\")\n",
    "clustering_sg = pickle.load(f)\n",
    "f.close()\n",
    "\n",
    "f = open(\"../data/line_embedding.pkl\", \"rb\")\n",
    "line_embedding = pickle.load(f)\n",
    "f.close()"
   ]
  },
  {
   "cell_type": "code",
   "execution_count": 229,
   "metadata": {},
   "outputs": [],
   "source": [
    "node2vec_wv = KeyedVectors.load_word2vec_format('../data/node2vec_emb_.nodevectors')"
   ]
  },
  {
   "cell_type": "code",
   "execution_count": 239,
   "metadata": {},
   "outputs": [],
   "source": [
    "# read embeddings of abstracts\n",
    "text_embeddings = pd.read_csv(\"../data/author_embedding_64.csv\", header=None)\n",
    "text_embeddings = text_embeddings.rename(columns={0: \"authorID\"})"
   ]
  },
  {
   "cell_type": "code",
   "execution_count": 257,
   "metadata": {},
   "outputs": [],
   "source": [
    "n_temb = text_embeddings.shape[1] - 1\n",
    "n_wv = node2vec_wv.vector_size"
   ]
  },
  {
   "cell_type": "code",
   "execution_count": 258,
   "metadata": {},
   "outputs": [],
   "source": [
    "# create the training matrix. each node is represented as a vector of features:\n",
    "# (1-2-3) its degree, (4-5-6) the average degree of its neighbors, \n",
    "# (7) its core number, # (8-9-10) its page rank, (11-12) its betweenness centrality, \n",
    "# (13-14) its clustering coefficient, (15) its eigenvector centrality,\n",
    "# (16) the number of written papers (cited), (17) the average number of written papers of its neighbors/coauthors,\n",
    "# (18) text_embeddings from Doc2Vec\n",
    "X_train = np.zeros((n_train, 17+n_wv+n_temb))\n",
    "y_train = np.zeros(n_train)\n",
    "for i,row in df_train.iterrows():\n",
    "    node = int(row['authorID'])\n",
    "    index = nodes[node]\n",
    "    X_train[i,0] = G.degree(node)\n",
    "    X_train[i,1] = WG.degree(node)\n",
    "    X_train[i,2] = SG.degree(node)\n",
    "    X_train[i,3] = avg_neighbor_degree_g[node]\n",
    "    X_train[i,4] = avg_neighbor_degree_wg[node]\n",
    "    X_train[i,5] = avg_neighbor_degree_sg[node]\n",
    "    X_train[i,6] = core_number_g[node]\n",
    "    X_train[i,7] = page_rank_g[node]\n",
    "    X_train[i,8] = page_rank_wg[node]\n",
    "    X_train[i,9] = page_rank_sg[node]\n",
    "    X_train[i,10] = betweenness_centrality_g[node]\n",
    "    X_train[i,11] = betweenness_centrality_wg[node]\n",
    "    X_train[i,12] = clustering_wg[node]\n",
    "    X_train[i,13] = clustering_sg[node]\n",
    "    X_train[i,14] = eigenvector_centrality_sg[node]\n",
    "    X_train[i,15] = n_papers[node]\n",
    "    X_train[i,16] = average_coauthors_n_papers[node]\n",
    "    X_train[i,17:17+n_wv] = node2vec_wv[str(node)]\n",
    "    X_train[i,17+n_wv:] = text_embeddings[text_embeddings[\"authorID\"] == node].iloc[:,1:]\n",
    "    y_train[i] = row['h_index']"
   ]
  },
  {
   "cell_type": "code",
   "execution_count": 259,
   "metadata": {},
   "outputs": [],
   "source": [
    "reg = LGBMRegressor(objective='mae', n_estimators=3000)"
   ]
  },
  {
   "cell_type": "code",
   "execution_count": 199,
   "metadata": {
    "scrolled": true
   },
   "outputs": [
    {
     "name": "stdout",
     "output_type": "stream",
     "text": [
      "3.3543957171452603\n"
     ]
    }
   ],
   "source": [
    "#p=1 q=0.5 emb_\n",
    "# cross-validation\n",
    "scores = cross_val_score(reg, X_train, y_train, cv=5, scoring='neg_mean_absolute_error')\n",
    "print(np.mean(-scores))"
   ]
  },
  {
   "cell_type": "code",
   "execution_count": 149,
   "metadata": {},
   "outputs": [],
   "source": [
    "# create the testing matrix. each node is represented as a vector of features:\n",
    "# (1-2-3) its degree, (4-5-6) the average degree of its neighbors, \n",
    "# (7) its core number, # (8-9-10) its page rank, (11-12) its betweenness centrality, \n",
    "# (13-14-15) its clustering coefficient, (16) its eigenvector centrality,\n",
    "# (17) the number of written papers (cited), (18) the average number of written papers of its neighbors/coauthors,\n",
    "# (19) text_embeddings from Doc2Vec\n",
    "X_test = np.zeros((n_test, 17+n_wv+n_temb))\n",
    "cpt_tst = 0\n",
    "for i,row in df_test.iterrows():\n",
    "    node = int(row['authorID'])\n",
    "    index = nodes[node]\n",
    "    X_test[i,0] = G.degree(node)\n",
    "    X_test[i,1] = WG.degree(node)\n",
    "    X_test[i,2] = SG.degree(node)\n",
    "    X_test[i,3] = avg_neighbor_degree_g[node]\n",
    "    X_test[i,4] = avg_neighbor_degree_wg[node]\n",
    "    X_test[i,5] = avg_neighbor_degree_sg[node]\n",
    "    X_test[i,6] = core_number_g[node]\n",
    "    X_test[i,7] = page_rank_g[node]\n",
    "    X_test[i,8] = page_rank_wg[node]\n",
    "    X_test[i,9] = page_rank_sg[node]\n",
    "    X_test[i,10] = betweenness_centrality_g[node]\n",
    "    X_test[i,11] = betweenness_centrality_wg[node]\n",
    "    X_test[i,12] = clustering_wg[node]\n",
    "    X_test[i,13] = clustering_sg[node]\n",
    "    X_test[i,14] = eigenvector_centrality_sg[node]\n",
    "    X_test[i,15] = n_papers[node]\n",
    "    X_test[i,16] = average_coauthors_n_papers[node]\n",
    "    X_test[i,17:17+n_wv] = n2v_embeddings.iloc[index,:]\n",
    "    X_test[i,17+n_wv:] = text_embeddings[text_embeddings[\"authorID\"] == node].iloc[:,1:]"
   ]
  },
  {
   "cell_type": "code",
   "execution_count": 143,
   "metadata": {},
   "outputs": [],
   "source": [
    "reg.fit(X_train, y_train)\n",
    "y_pred = reg.predict(X_test)"
   ]
  },
  {
   "cell_type": "code",
   "execution_count": 144,
   "metadata": {},
   "outputs": [],
   "source": [
    "# post-processing: make sure that the predicted h-index is less than the number of papers (<10)\n",
    "for i in range(len(X_test)):\n",
    "    npapers = X_test[i, 15]\n",
    "    if npapers < 10 and y_pred[i] > npapers:\n",
    "        y_pred[i] = npapers\n",
    "    if y_pred[i] < 0:\n",
    "        y_pred[i] = 1"
   ]
  },
  {
   "cell_type": "code",
   "execution_count": 145,
   "metadata": {},
   "outputs": [],
   "source": [
    "# write the predictions to file\n",
    "df_test['h_index_pred'].update(pd.Series(np.round_(y_pred, decimals=3)))\n",
    "df_test.loc[:,[\"authorID\",\"h_index_pred\"]].to_csv('../predictions/test_predictions_22.csv', index=False)"
   ]
  }
 ],
 "metadata": {
  "kernelspec": {
   "display_name": "Python 3",
   "language": "python",
   "name": "python3"
  },
  "language_info": {
   "codemirror_mode": {
    "name": "ipython",
    "version": 3
   },
   "file_extension": ".py",
   "mimetype": "text/x-python",
   "name": "python",
   "nbconvert_exporter": "python",
   "pygments_lexer": "ipython3",
   "version": "3.8.4"
  }
 },
 "nbformat": 4,
 "nbformat_minor": 4
}
